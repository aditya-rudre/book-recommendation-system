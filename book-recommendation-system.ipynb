{
 "cells": [
  {
   "cell_type": "code",
   "execution_count": 1,
   "id": "054fb77d-6e7a-4aaf-a294-6d673382d313",
   "metadata": {},
   "outputs": [],
   "source": [
    "import numpy as np\n",
    "import pandas as pd"
   ]
  },
  {
   "cell_type": "code",
   "execution_count": 2,
   "id": "ed63b01f-81d5-4b2d-8176-24dcf7f93e69",
   "metadata": {},
   "outputs": [
    {
     "name": "stderr",
     "output_type": "stream",
     "text": [
      "C:\\Users\\adiru\\AppData\\Local\\Temp\\ipykernel_1924\\3884128499.py:2: DtypeWarning: Columns (3) have mixed types. Specify dtype option on import or set low_memory=False.\n",
      "  books = pd.read_csv('books.csv')\n"
     ]
    }
   ],
   "source": [
    "#importing data\n",
    "books = pd.read_csv('books.csv')\n",
    "users = pd.read_csv('users.csv')\n",
    "ratings = pd.read_csv('ratings.csv')"
   ]
  },
  {
   "cell_type": "code",
   "execution_count": 3,
   "id": "ce41d9ee-769d-4dce-8b6d-fcb1fdbaff7c",
   "metadata": {},
   "outputs": [
    {
     "data": {
      "text/html": [
       "<div>\n",
       "<style scoped>\n",
       "    .dataframe tbody tr th:only-of-type {\n",
       "        vertical-align: middle;\n",
       "    }\n",
       "\n",
       "    .dataframe tbody tr th {\n",
       "        vertical-align: top;\n",
       "    }\n",
       "\n",
       "    .dataframe thead th {\n",
       "        text-align: right;\n",
       "    }\n",
       "</style>\n",
       "<table border=\"1\" class=\"dataframe\">\n",
       "  <thead>\n",
       "    <tr style=\"text-align: right;\">\n",
       "      <th></th>\n",
       "      <th>ISBN</th>\n",
       "      <th>Book-Title</th>\n",
       "      <th>Book-Author</th>\n",
       "      <th>Year-Of-Publication</th>\n",
       "      <th>Publisher</th>\n",
       "      <th>Image-URL-S</th>\n",
       "      <th>Image-URL-M</th>\n",
       "      <th>Image-URL-L</th>\n",
       "    </tr>\n",
       "  </thead>\n",
       "  <tbody>\n",
       "    <tr>\n",
       "      <th>0</th>\n",
       "      <td>0195153448</td>\n",
       "      <td>Classical Mythology</td>\n",
       "      <td>Mark P. O. Morford</td>\n",
       "      <td>2002</td>\n",
       "      <td>Oxford University Press</td>\n",
       "      <td>http://images.amazon.com/images/P/0195153448.0...</td>\n",
       "      <td>http://images.amazon.com/images/P/0195153448.0...</td>\n",
       "      <td>http://images.amazon.com/images/P/0195153448.0...</td>\n",
       "    </tr>\n",
       "    <tr>\n",
       "      <th>1</th>\n",
       "      <td>0002005018</td>\n",
       "      <td>Clara Callan</td>\n",
       "      <td>Richard Bruce Wright</td>\n",
       "      <td>2001</td>\n",
       "      <td>HarperFlamingo Canada</td>\n",
       "      <td>http://images.amazon.com/images/P/0002005018.0...</td>\n",
       "      <td>http://images.amazon.com/images/P/0002005018.0...</td>\n",
       "      <td>http://images.amazon.com/images/P/0002005018.0...</td>\n",
       "    </tr>\n",
       "    <tr>\n",
       "      <th>2</th>\n",
       "      <td>0060973129</td>\n",
       "      <td>Decision in Normandy</td>\n",
       "      <td>Carlo D'Este</td>\n",
       "      <td>1991</td>\n",
       "      <td>HarperPerennial</td>\n",
       "      <td>http://images.amazon.com/images/P/0060973129.0...</td>\n",
       "      <td>http://images.amazon.com/images/P/0060973129.0...</td>\n",
       "      <td>http://images.amazon.com/images/P/0060973129.0...</td>\n",
       "    </tr>\n",
       "    <tr>\n",
       "      <th>3</th>\n",
       "      <td>0374157065</td>\n",
       "      <td>Flu: The Story of the Great Influenza Pandemic...</td>\n",
       "      <td>Gina Bari Kolata</td>\n",
       "      <td>1999</td>\n",
       "      <td>Farrar Straus Giroux</td>\n",
       "      <td>http://images.amazon.com/images/P/0374157065.0...</td>\n",
       "      <td>http://images.amazon.com/images/P/0374157065.0...</td>\n",
       "      <td>http://images.amazon.com/images/P/0374157065.0...</td>\n",
       "    </tr>\n",
       "    <tr>\n",
       "      <th>4</th>\n",
       "      <td>0393045218</td>\n",
       "      <td>The Mummies of Urumchi</td>\n",
       "      <td>E. J. W. Barber</td>\n",
       "      <td>1999</td>\n",
       "      <td>W. W. Norton &amp;amp; Company</td>\n",
       "      <td>http://images.amazon.com/images/P/0393045218.0...</td>\n",
       "      <td>http://images.amazon.com/images/P/0393045218.0...</td>\n",
       "      <td>http://images.amazon.com/images/P/0393045218.0...</td>\n",
       "    </tr>\n",
       "  </tbody>\n",
       "</table>\n",
       "</div>"
      ],
      "text/plain": [
       "         ISBN                                         Book-Title  \\\n",
       "0  0195153448                                Classical Mythology   \n",
       "1  0002005018                                       Clara Callan   \n",
       "2  0060973129                               Decision in Normandy   \n",
       "3  0374157065  Flu: The Story of the Great Influenza Pandemic...   \n",
       "4  0393045218                             The Mummies of Urumchi   \n",
       "\n",
       "            Book-Author Year-Of-Publication                   Publisher  \\\n",
       "0    Mark P. O. Morford                2002     Oxford University Press   \n",
       "1  Richard Bruce Wright                2001       HarperFlamingo Canada   \n",
       "2          Carlo D'Este                1991             HarperPerennial   \n",
       "3      Gina Bari Kolata                1999        Farrar Straus Giroux   \n",
       "4       E. J. W. Barber                1999  W. W. Norton &amp; Company   \n",
       "\n",
       "                                         Image-URL-S  \\\n",
       "0  http://images.amazon.com/images/P/0195153448.0...   \n",
       "1  http://images.amazon.com/images/P/0002005018.0...   \n",
       "2  http://images.amazon.com/images/P/0060973129.0...   \n",
       "3  http://images.amazon.com/images/P/0374157065.0...   \n",
       "4  http://images.amazon.com/images/P/0393045218.0...   \n",
       "\n",
       "                                         Image-URL-M  \\\n",
       "0  http://images.amazon.com/images/P/0195153448.0...   \n",
       "1  http://images.amazon.com/images/P/0002005018.0...   \n",
       "2  http://images.amazon.com/images/P/0060973129.0...   \n",
       "3  http://images.amazon.com/images/P/0374157065.0...   \n",
       "4  http://images.amazon.com/images/P/0393045218.0...   \n",
       "\n",
       "                                         Image-URL-L  \n",
       "0  http://images.amazon.com/images/P/0195153448.0...  \n",
       "1  http://images.amazon.com/images/P/0002005018.0...  \n",
       "2  http://images.amazon.com/images/P/0060973129.0...  \n",
       "3  http://images.amazon.com/images/P/0374157065.0...  \n",
       "4  http://images.amazon.com/images/P/0393045218.0...  "
      ]
     },
     "execution_count": 3,
     "metadata": {},
     "output_type": "execute_result"
    }
   ],
   "source": [
    "books.head()"
   ]
  },
  {
   "cell_type": "code",
   "execution_count": 4,
   "id": "1fcad352-1f06-4f57-9d3d-627cd4aa5300",
   "metadata": {},
   "outputs": [
    {
     "data": {
      "text/html": [
       "<div>\n",
       "<style scoped>\n",
       "    .dataframe tbody tr th:only-of-type {\n",
       "        vertical-align: middle;\n",
       "    }\n",
       "\n",
       "    .dataframe tbody tr th {\n",
       "        vertical-align: top;\n",
       "    }\n",
       "\n",
       "    .dataframe thead th {\n",
       "        text-align: right;\n",
       "    }\n",
       "</style>\n",
       "<table border=\"1\" class=\"dataframe\">\n",
       "  <thead>\n",
       "    <tr style=\"text-align: right;\">\n",
       "      <th></th>\n",
       "      <th>User-ID</th>\n",
       "      <th>Location</th>\n",
       "      <th>Age</th>\n",
       "    </tr>\n",
       "  </thead>\n",
       "  <tbody>\n",
       "    <tr>\n",
       "      <th>0</th>\n",
       "      <td>1</td>\n",
       "      <td>nyc, new york, usa</td>\n",
       "      <td>NaN</td>\n",
       "    </tr>\n",
       "    <tr>\n",
       "      <th>1</th>\n",
       "      <td>2</td>\n",
       "      <td>stockton, california, usa</td>\n",
       "      <td>18.0</td>\n",
       "    </tr>\n",
       "    <tr>\n",
       "      <th>2</th>\n",
       "      <td>3</td>\n",
       "      <td>moscow, yukon territory, russia</td>\n",
       "      <td>NaN</td>\n",
       "    </tr>\n",
       "    <tr>\n",
       "      <th>3</th>\n",
       "      <td>4</td>\n",
       "      <td>porto, v.n.gaia, portugal</td>\n",
       "      <td>17.0</td>\n",
       "    </tr>\n",
       "    <tr>\n",
       "      <th>4</th>\n",
       "      <td>5</td>\n",
       "      <td>farnborough, hants, united kingdom</td>\n",
       "      <td>NaN</td>\n",
       "    </tr>\n",
       "  </tbody>\n",
       "</table>\n",
       "</div>"
      ],
      "text/plain": [
       "   User-ID                            Location   Age\n",
       "0        1                  nyc, new york, usa   NaN\n",
       "1        2           stockton, california, usa  18.0\n",
       "2        3     moscow, yukon territory, russia   NaN\n",
       "3        4           porto, v.n.gaia, portugal  17.0\n",
       "4        5  farnborough, hants, united kingdom   NaN"
      ]
     },
     "execution_count": 4,
     "metadata": {},
     "output_type": "execute_result"
    }
   ],
   "source": [
    "users.head()"
   ]
  },
  {
   "cell_type": "code",
   "execution_count": 5,
   "id": "6ae527cb-4a21-4980-b147-4716ad268228",
   "metadata": {},
   "outputs": [
    {
     "data": {
      "text/html": [
       "<div>\n",
       "<style scoped>\n",
       "    .dataframe tbody tr th:only-of-type {\n",
       "        vertical-align: middle;\n",
       "    }\n",
       "\n",
       "    .dataframe tbody tr th {\n",
       "        vertical-align: top;\n",
       "    }\n",
       "\n",
       "    .dataframe thead th {\n",
       "        text-align: right;\n",
       "    }\n",
       "</style>\n",
       "<table border=\"1\" class=\"dataframe\">\n",
       "  <thead>\n",
       "    <tr style=\"text-align: right;\">\n",
       "      <th></th>\n",
       "      <th>User-ID</th>\n",
       "      <th>ISBN</th>\n",
       "      <th>Book-Rating</th>\n",
       "    </tr>\n",
       "  </thead>\n",
       "  <tbody>\n",
       "    <tr>\n",
       "      <th>0</th>\n",
       "      <td>276725</td>\n",
       "      <td>034545104X</td>\n",
       "      <td>0</td>\n",
       "    </tr>\n",
       "    <tr>\n",
       "      <th>1</th>\n",
       "      <td>276726</td>\n",
       "      <td>0155061224</td>\n",
       "      <td>5</td>\n",
       "    </tr>\n",
       "    <tr>\n",
       "      <th>2</th>\n",
       "      <td>276727</td>\n",
       "      <td>0446520802</td>\n",
       "      <td>0</td>\n",
       "    </tr>\n",
       "    <tr>\n",
       "      <th>3</th>\n",
       "      <td>276729</td>\n",
       "      <td>052165615X</td>\n",
       "      <td>3</td>\n",
       "    </tr>\n",
       "    <tr>\n",
       "      <th>4</th>\n",
       "      <td>276729</td>\n",
       "      <td>0521795028</td>\n",
       "      <td>6</td>\n",
       "    </tr>\n",
       "  </tbody>\n",
       "</table>\n",
       "</div>"
      ],
      "text/plain": [
       "   User-ID        ISBN  Book-Rating\n",
       "0   276725  034545104X            0\n",
       "1   276726  0155061224            5\n",
       "2   276727  0446520802            0\n",
       "3   276729  052165615X            3\n",
       "4   276729  0521795028            6"
      ]
     },
     "execution_count": 5,
     "metadata": {},
     "output_type": "execute_result"
    }
   ],
   "source": [
    "ratings.head()"
   ]
  },
  {
   "cell_type": "code",
   "execution_count": null,
   "id": "d4a4af3d-d927-4dc5-b1c6-730f87c7345a",
   "metadata": {},
   "outputs": [],
   "source": [
    "#checking rows and column count of each data set\n",
    "print(books.shape)\n",
    "print(ratings.shape)\n",
    "print(users.shape)"
   ]
  },
  {
   "cell_type": "code",
   "execution_count": null,
   "id": "b883b75f-2249-45d4-a13f-b9b764d6e5c1",
   "metadata": {},
   "outputs": [],
   "source": [
    "#cheking missing values\n",
    "books.isnull().sum()"
   ]
  },
  {
   "cell_type": "code",
   "execution_count": null,
   "id": "72946901-90a2-47fd-b607-7165348e6e35",
   "metadata": {},
   "outputs": [],
   "source": [
    " users.isnull().sum()"
   ]
  },
  {
   "cell_type": "code",
   "execution_count": null,
   "id": "d1e5f1b3-5770-4ef8-b2c8-ccf68dae2e5f",
   "metadata": {},
   "outputs": [],
   "source": [
    "ratings.isnull().sum()"
   ]
  },
  {
   "cell_type": "code",
   "execution_count": null,
   "id": "d105c4d9-2388-44e2-8b43-adcbfea986ba",
   "metadata": {},
   "outputs": [],
   "source": [
    "books.duplicated().sum()"
   ]
  },
  {
   "cell_type": "code",
   "execution_count": null,
   "id": "b1a56985-b658-4023-89d9-04a7929e02ca",
   "metadata": {},
   "outputs": [],
   "source": [
    "users.duplicated().sum()"
   ]
  },
  {
   "cell_type": "code",
   "execution_count": null,
   "id": "51f33692-757e-4ff4-802b-213b28691eda",
   "metadata": {},
   "outputs": [],
   "source": [
    "ratings.duplicated().sum()"
   ]
  },
  {
   "cell_type": "markdown",
   "id": "9f89053c-bc38-4ff1-b1d7-73e3843774ad",
   "metadata": {},
   "source": [
    "## Popularity Based Recommender System"
   ]
  },
  {
   "cell_type": "code",
   "execution_count": null,
   "id": "6e58d97f-cd0f-4df1-ab18-d76bd7d0fa40",
   "metadata": {},
   "outputs": [],
   "source": [
    " #merging ratings with books\n",
    "ratings_with_books = ratings.merge(books, on='ISBN')"
   ]
  },
  {
   "cell_type": "code",
   "execution_count": null,
   "id": "d5bdf476-7add-4af5-ba5d-653e8c8317a1",
   "metadata": {},
   "outputs": [],
   "source": [
    " ratings_with_books"
   ]
  },
  {
   "cell_type": "code",
   "execution_count": null,
   "id": "b1fcd84c-15c0-4c17-a6a7-c569ce6a8054",
   "metadata": {},
   "outputs": [],
   "source": [
    "#grouping according to the book-title for it's rating and finding it's sum\n",
    "num_rating_df = ratings_with_books.groupby('Book-Title').count()['Book-Rating'].reset_index()"
   ]
  },
  {
   "cell_type": "code",
   "execution_count": null,
   "id": "889d3585-2de7-48af-a52c-b7cfd4693fef",
   "metadata": {},
   "outputs": [],
   "source": [
    "num_rating_df.rename(columns={'Book-Rating':'num_ratings'},inplace=True)\n",
    "num_rating_df"
   ]
  },
  {
   "cell_type": "code",
   "execution_count": null,
   "id": "5932d2a1-33f5-43c8-b76f-4fe0c6b46692",
   "metadata": {},
   "outputs": [],
   "source": [
    "# Identify non-numeric 'Book-Rating' values\n",
    "non_numeric_ratings = ratings_with_books[pd.to_numeric(ratings_with_books['Book-Rating'], errors='coerce').isna()]\n",
    "# Now, clean the 'Book-Rating' column by converting it to numeric and dropping NaN values\n",
    "ratings_with_books['Book-Rating'] = pd.to_numeric(ratings_with_books['Book-Rating'], errors='coerce')\n",
    "ratings_with_books = ratings_with_books.dropna(subset=['Book-Rating'])\n",
    "# Group by 'Book-Title' and calculate the mean rating\n",
    "avg_rating_df = ratings_with_books.groupby('Book-Title').mean(numeric_only=True)['Book-Rating'].reset_index()\n",
    "# Rename the column for clarity\n",
    "avg_rating_df.rename(columns={'Book-Rating': 'avg_ratings'}, inplace=True)\n",
    "avg_rating_df"
   ]
  },
  {
   "cell_type": "code",
   "execution_count": null,
   "id": "b523e223-2259-48e0-998b-88a39e0f51cc",
   "metadata": {},
   "outputs": [],
   "source": [
    "popular_df = num_rating_df.merge(avg_rating_df,on='Book-Title')\n",
    "popular_df"
   ]
  },
  {
   "cell_type": "code",
   "execution_count": null,
   "id": "4bc00f9f-768c-4447-8db8-c5094ad1cf25",
   "metadata": {},
   "outputs": [],
   "source": [
    "popular_df = popular_df[popular_df['num_ratings'] >= 250].sort_values('avg_ratings', ascending=False).head(50)"
   ]
  },
  {
   "cell_type": "code",
   "execution_count": null,
   "id": "0f93fd4b-a638-4994-b7d9-2df0c48c5805",
   "metadata": {},
   "outputs": [],
   "source": [
    "#Top 50 books according to ratings/popularity\n",
    "popular_df"
   ]
  },
  {
   "cell_type": "code",
   "execution_count": null,
   "id": "49c2ddd8-c664-4016-bed8-68517ce9bdea",
   "metadata": {},
   "outputs": [],
   "source": [
    "popular_df.merge(books,on='Book-Title').drop_duplicates('Book-Title').shape"
   ]
  },
  {
   "cell_type": "code",
   "execution_count": null,
   "id": "1e6ae675-0e57-45a3-a798-b68ade226602",
   "metadata": {},
   "outputs": [],
   "source": [
    "popular_df.merge(books,on='Book-Title').drop_duplicates('Book-Title')[['Book-Title','Book-Author','Image-URL-M', 'num_ratings','avg_ratings']]"
   ]
  },
  {
   "cell_type": "code",
   "execution_count": null,
   "id": "7d42b87b-55ba-40e1-9f0f-e77cc8f6734e",
   "metadata": {},
   "outputs": [],
   "source": [
    "#final popular_df\n",
    "popular_df"
   ]
  },
  {
   "cell_type": "markdown",
   "id": "652a991d-ad30-4f67-aa81-47e885502f65",
   "metadata": {},
   "source": [
    "## Collaborative Filtering based Recommender System"
   ]
  },
  {
   "cell_type": "code",
   "execution_count": null,
   "id": "f706bdd4-55f2-43e8-8318-fc4863f053f3",
   "metadata": {},
   "outputs": [],
   "source": [
    "x = ratings_with_books.groupby('User-ID').count()['Book-Rating'] > 200\n",
    "seasoned_readers = x[x].index"
   ]
  },
  {
   "cell_type": "code",
   "execution_count": null,
   "id": "5fcc3d60-38eb-4336-8d22-9099683205f9",
   "metadata": {},
   "outputs": [],
   "source": [
    "filtered_rating = ratings_with_books[ratings_with_books['User-ID'].isin(seasoned_readers)]"
   ]
  },
  {
   "cell_type": "code",
   "execution_count": null,
   "id": "1857cd2a-b26a-4ff9-9482-9f53aab9d298",
   "metadata": {},
   "outputs": [],
   "source": [
    "filtered_rating"
   ]
  },
  {
   "cell_type": "code",
   "execution_count": null,
   "id": "f6624139-e99a-4a82-9048-4a42c36ef1dc",
   "metadata": {},
   "outputs": [],
   "source": [
    "y = filtered_rating.groupby('Book-Title').count()['Book-Rating'] >= 50\n",
    "famous_books = y[y].index"
   ]
  },
  {
   "cell_type": "code",
   "execution_count": null,
   "id": "76a204c9-b05a-43c5-956a-6a8dcc8112dc",
   "metadata": {},
   "outputs": [],
   "source": [
    "famous_books"
   ]
  },
  {
   "cell_type": "code",
   "execution_count": null,
   "id": "4fe7f38d-98c7-40fa-9144-5fc18490ced6",
   "metadata": {},
   "outputs": [],
   "source": [
    "final_rating = filtered_rating[filtered_rating['Book-Title'].isin(famous_books)]"
   ]
  },
  {
   "cell_type": "code",
   "execution_count": null,
   "id": "aacf4aa8-736f-4e8d-a68f-a1c44d6d8525",
   "metadata": {},
   "outputs": [],
   "source": [
    "final_rating.drop_duplicates()"
   ]
  },
  {
   "cell_type": "code",
   "execution_count": null,
   "id": "54d0bc1e-e352-4bf5-b5a0-f93e3090c294",
   "metadata": {},
   "outputs": [],
   "source": [
    "pivot_table = final_rating.pivot_table(index='Book-Title', columns='User-ID', values='Book-Rating')"
   ]
  },
  {
   "cell_type": "code",
   "execution_count": null,
   "id": "7fd65793-2304-4065-88a8-fe6af359ef47",
   "metadata": {},
   "outputs": [],
   "source": [
    "pivot_table.fillna(0,inplace=True) "
   ]
  },
  {
   "cell_type": "code",
   "execution_count": null,
   "id": "ac630947-60cd-422b-86ea-1ba0db3f13d0",
   "metadata": {},
   "outputs": [],
   "source": [
    "pivot_table"
   ]
  },
  {
   "cell_type": "code",
   "execution_count": null,
   "id": "9398995f-aa10-4e81-b237-4bfe25c3e2ea",
   "metadata": {},
   "outputs": [],
   "source": [
    "from sklearn.metrics.pairwise import cosine_similarity"
   ]
  },
  {
   "cell_type": "code",
   "execution_count": null,
   "id": "770efcf7-6695-4c1b-9b99-897f8754b3bf",
   "metadata": {},
   "outputs": [],
   "source": [
    "similarity_scores = cosine_similarity(pivot_table)"
   ]
  },
  {
   "cell_type": "code",
   "execution_count": null,
   "id": "411f7158-19cc-4044-95b4-2b28e13266b5",
   "metadata": {},
   "outputs": [],
   "source": [
    "similarity_scores"
   ]
  },
  {
   "cell_type": "code",
   "execution_count": null,
   "id": "9e0535f9-4606-4b39-b874-8f6fb4ae74a5",
   "metadata": {},
   "outputs": [],
   "source": [
    "similarity_scores.shape"
   ]
  },
  {
   "cell_type": "code",
   "execution_count": null,
   "id": "91fce634-3a94-4e95-a905-af104a70fb97",
   "metadata": {},
   "outputs": [],
   "source": [
    "def recommend(book_name):\n",
    "    #index fetch\n",
    "    index = np.where(pivot_table.index==book_name)[0][0]\n",
    "    similar_items = sorted(list(enumerate(similarity_scores[index])),key=lambda x:x[1],reverse=True)[1:11]\n",
    "\n",
    "    for i in similar_items:\n",
    "        print(pivot_table.index[i[0]])"
   ]
  },
  {
   "cell_type": "code",
   "execution_count": 163,
   "id": "63290858-ba13-4b67-8022-5e2f1f76a256",
   "metadata": {
    "scrolled": true
   },
   "outputs": [
    {
     "name": "stdout",
     "output_type": "stream",
     "text": [
      "The Catcher in the Rye\n",
      "Five Quarters of the Orange\n",
      "Drowning Ruth\n",
      "The Bean Trees\n",
      "The Color of Water: A Black Man's Tribute to His White Mother\n",
      "Rebecca\n",
      "Echoes\n",
      "The Secret Life of Bees\n",
      "While I Was Gone\n",
      "Lord of the Flies\n"
     ]
    }
   ],
   "source": [
    "#recommends 10 similar books to the given name\n",
    "recommend('To Kill a Mockingbird')"
   ]
  },
  {
   "cell_type": "code",
   "execution_count": null,
   "id": "ce4a742c-0bc8-4d5f-bf48-0a934b98cf81",
   "metadata": {},
   "outputs": [],
   "source": []
  }
 ],
 "metadata": {
  "kernelspec": {
   "display_name": "Python 3 (ipykernel)",
   "language": "python",
   "name": "python3"
  },
  "language_info": {
   "codemirror_mode": {
    "name": "ipython",
    "version": 3
   },
   "file_extension": ".py",
   "mimetype": "text/x-python",
   "name": "python",
   "nbconvert_exporter": "python",
   "pygments_lexer": "ipython3",
   "version": "3.12.4"
  }
 },
 "nbformat": 4,
 "nbformat_minor": 5
}
